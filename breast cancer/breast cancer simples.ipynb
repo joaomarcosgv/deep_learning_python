# -*- coding: utf-8 -*-
"""
Created on Sun Jan 29 14:29:41 2023

@author: Joao Marcos
"""
import numpy as np
import pandas as pd
import sys
import tensorflow
import keras

previsores = pd.read_csv('entradas_breast.csv')
classe = pd.read_csv('saidas_breast.csv')

from sklearn.model_selection import train_test_split
previsores_treinamento, previsores_teste, classe_treinamento, classe_teste = train_test_split(previsores, classe, test_size=0.25)

from keras.models import Sequential
from keras.layers import Dense
classificador = Sequential()
classificador.add(Dense(units = 16, activation = 'relu', kernel_initializer = 'random_uniform', input_dim = 30))
classificador.add(Dense(units = 16, activation = 'relu', kernel_initializer = 'random_uniform'))
classificador.add(Dense(units = 1, activation = 'sigmoid'))

otimizador = keras.optimizers.Adam(learning_rate=0.001, decay=0.0001, clipvalue=0.5)

classificador.compile(optimizer = otimizador, loss = 'binary_crossentropy', metrics = ['binary_accuracy'])
classificador.fit(previsores_treinamento, classe_treinamento, batch_size = 10, epochs = 100)

pesos0 = classificador.layers[0].get_weights()
pesos1 = classificador.layers[1].get_weights()

previsoes = classificador.predict(previsores_teste)
previsoes = (previsoes>0.5)
from sklearn.metrics import confusion_matrix, accuracy_score
precisao = accuracy_score(classe_teste, previsoes)
matriz = confusion_matrix(classe_teste, previsoes)

#resultado obtem o mesmo valor de precisao, porem usando keras ao invés de sklearn
resultado = classificador.evaluate(previsores_teste, classe_teste) 


